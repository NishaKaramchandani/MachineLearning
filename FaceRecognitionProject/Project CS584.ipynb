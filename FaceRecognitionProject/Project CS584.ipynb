{
 "cells": [
  {
   "cell_type": "code",
   "execution_count": 30,
   "metadata": {},
   "outputs": [],
   "source": [
    "import pandas as pd\n",
    "import numpy as np\n",
    "from sklearn.neighbors import KNeighborsClassifier\n",
    "from sklearn.model_selection import cross_validate,StratifiedKFold\n",
    "from sklearn.svm import SVC"
   ]
  },
  {
   "cell_type": "code",
   "execution_count": 31,
   "metadata": {},
   "outputs": [],
   "source": [
    "X = pd.read_csv(\"data/X.csv\",sep = ' ', header=None,dtype=float)\n",
    "X = X.values"
   ]
  },
  {
   "cell_type": "code",
   "execution_count": 32,
   "metadata": {},
   "outputs": [],
   "source": [
    "y = pd.read_csv(\"data/y_williams_vs_others.csv\",sep = ' ', header=None,dtype=float)\n",
    "y_bush = y.values.ravel()"
   ]
  },
  {
   "cell_type": "code",
   "execution_count": 33,
   "metadata": {},
   "outputs": [
    {
     "data": {
      "text/plain": [
       "(13233, 4096)"
      ]
     },
     "execution_count": 33,
     "metadata": {},
     "output_type": "execute_result"
    }
   ],
   "source": [
    "X.shape"
   ]
  },
  {
   "cell_type": "code",
   "execution_count": 34,
   "metadata": {},
   "outputs": [
    {
     "data": {
      "text/plain": [
       "52.0"
      ]
     },
     "execution_count": 34,
     "metadata": {},
     "output_type": "execute_result"
    }
   ],
   "source": [
    "np.sum(y_bush)"
   ]
  },
  {
   "cell_type": "code",
   "execution_count": 39,
   "metadata": {},
   "outputs": [
    {
     "data": {
      "text/plain": [
       "(13233,)"
      ]
     },
     "execution_count": 39,
     "metadata": {},
     "output_type": "execute_result"
    }
   ],
   "source": [
    "y_bush.shape"
   ]
  },
  {
   "cell_type": "code",
   "execution_count": 40,
   "metadata": {},
   "outputs": [],
   "source": [
    "knn = KNeighborsClassifier(5)"
   ]
  },
  {
   "cell_type": "code",
   "execution_count": 41,
   "metadata": {},
   "outputs": [
    {
     "name": "stderr",
     "output_type": "stream",
     "text": [
      "/Users/nishakaramchandani/anaconda3/lib/python3.6/site-packages/sklearn/metrics/classification.py:1135: UndefinedMetricWarning: Precision is ill-defined and being set to 0.0 due to no predicted samples.\n",
      "  'precision', 'predicted', average, warn_for)\n",
      "/Users/nishakaramchandani/anaconda3/lib/python3.6/site-packages/sklearn/metrics/classification.py:1135: UndefinedMetricWarning: Precision is ill-defined and being set to 0.0 due to no predicted samples.\n",
      "  'precision', 'predicted', average, warn_for)\n",
      "/Users/nishakaramchandani/anaconda3/lib/python3.6/site-packages/sklearn/metrics/classification.py:1135: UndefinedMetricWarning: Precision is ill-defined and being set to 0.0 due to no predicted samples.\n",
      "  'precision', 'predicted', average, warn_for)\n",
      "/Users/nishakaramchandani/anaconda3/lib/python3.6/site-packages/sklearn/metrics/classification.py:1135: UndefinedMetricWarning: F-score is ill-defined and being set to 0.0 due to no predicted samples.\n",
      "  'precision', 'predicted', average, warn_for)\n",
      "/Users/nishakaramchandani/anaconda3/lib/python3.6/site-packages/sklearn/metrics/classification.py:1135: UndefinedMetricWarning: F-score is ill-defined and being set to 0.0 due to no predicted samples.\n",
      "  'precision', 'predicted', average, warn_for)\n",
      "/Users/nishakaramchandani/anaconda3/lib/python3.6/site-packages/sklearn/metrics/classification.py:1135: UndefinedMetricWarning: F-score is ill-defined and being set to 0.0 due to no predicted samples.\n",
      "  'precision', 'predicted', average, warn_for)\n"
     ]
    }
   ],
   "source": [
    "stratified_cv_results = cross_validate(knn,X,y_bush, cv=StratifiedKFold(n_splits = 3,shuffle = True,random_state = 4435),\n",
    "                           scoring=('precision','recall','f1'),return_train_score=False,n_jobs=4)"
   ]
  },
  {
   "cell_type": "code",
   "execution_count": 42,
   "metadata": {
    "scrolled": true
   },
   "outputs": [
    {
     "data": {
      "text/plain": [
       "{'fit_time': array([8.25286794, 8.65910506, 8.32191896]),\n",
       " 'score_time': array([1007.93638396, 1006.05487895, 1004.96820784]),\n",
       " 'test_f1': array([0., 0., 0.]),\n",
       " 'test_precision': array([0., 0., 0.]),\n",
       " 'test_recall': array([0., 0., 0.])}"
      ]
     },
     "execution_count": 42,
     "metadata": {},
     "output_type": "execute_result"
    }
   ],
   "source": [
    "stratified_cv_results"
   ]
  },
  {
   "cell_type": "markdown",
   "metadata": {},
   "source": [
    "C_2d_range = [100, 200,300,400,500,600,700,800]\n",
    "gamma_2d_range = [1e-1, 1, 1e1]\n",
    "classifiers = []\n",
    "for C in C_2d_range:\n",
    "    svc = SVC(C=C, gamma=\"auto\")\n",
    "    stratified_cv_results = cross_validate(svc,X,y_bush, cv=StratifiedKFold(n_splits = 3,shuffle = True,random_state = 3671),\n",
    "                                     scoring=('precision','recall','f1'),return_train_score=False,n_jobs=-1)\n",
    "    print(stratified_cv_results)\n",
    "    classifiers.append((C, gamma, stratified_cv_results))\n",
    "\n",
    "print(classifiers)"
   ]
  },
  {
   "cell_type": "code",
   "execution_count": 72,
   "metadata": {},
   "outputs": [
    {
     "name": "stdout",
     "output_type": "stream",
     "text": [
      "{'fit_time': array([23.615031  , 24.25624704, 24.09643412]), 'score_time': array([16.08270097, 16.80507588, 17.37897182]), 'test_precision': array([0.72727273, 0.83333333, 0.90909091]), 'test_recall': array([0.44444444, 0.58823529, 0.58823529]), 'test_f1': array([0.55172414, 0.68965517, 0.71428571])}\n",
      "{'fit_time': array([15.93200898, 17.11275315, 17.63132095]), 'score_time': array([13.86938596, 14.60439205, 15.09012914]), 'test_precision': array([0.72727273, 0.83333333, 0.90909091]), 'test_recall': array([0.44444444, 0.58823529, 0.58823529]), 'test_f1': array([0.55172414, 0.68965517, 0.71428571])}\n",
      "{'fit_time': array([17.19000721, 18.10490274, 18.4782989 ]), 'score_time': array([15.06877279, 16.04482102, 16.44480705]), 'test_precision': array([0.72727273, 0.83333333, 0.90909091]), 'test_recall': array([0.44444444, 0.58823529, 0.58823529]), 'test_f1': array([0.55172414, 0.68965517, 0.71428571])}\n",
      "{'fit_time': array([16.33767605, 17.50992513, 17.94551659]), 'score_time': array([15.8379879 , 16.57945514, 17.03745103]), 'test_precision': array([0.72727273, 0.83333333, 0.90909091]), 'test_recall': array([0.44444444, 0.58823529, 0.58823529]), 'test_f1': array([0.55172414, 0.68965517, 0.71428571])}\n",
      "{'fit_time': array([16.47672915, 17.69828486, 18.14731193]), 'score_time': array([16.36722207, 17.07594895, 17.19411016]), 'test_precision': array([0.72727273, 0.83333333, 0.90909091]), 'test_recall': array([0.44444444, 0.58823529, 0.58823529]), 'test_f1': array([0.55172414, 0.68965517, 0.71428571])}\n",
      "{'fit_time': array([17.52709413, 18.98427296, 19.16123128]), 'score_time': array([16.16523194, 16.68631911, 17.16090894]), 'test_precision': array([0.72727273, 0.83333333, 0.90909091]), 'test_recall': array([0.44444444, 0.58823529, 0.58823529]), 'test_f1': array([0.55172414, 0.68965517, 0.71428571])}\n",
      "{'fit_time': array([19.18401122, 20.25291896, 20.56303906]), 'score_time': array([15.90482593, 16.55718017, 16.95706677]), 'test_precision': array([0.72727273, 0.83333333, 0.90909091]), 'test_recall': array([0.44444444, 0.58823529, 0.58823529]), 'test_f1': array([0.55172414, 0.68965517, 0.71428571])}\n",
      "{'fit_time': array([15.956563  , 16.91646409, 17.41322899]), 'score_time': array([15.85686326, 16.85074377, 17.11571097]), 'test_precision': array([0.72727273, 0.83333333, 0.90909091]), 'test_recall': array([0.44444444, 0.58823529, 0.58823529]), 'test_f1': array([0.55172414, 0.68965517, 0.71428571])}\n",
      "[(1000, 0.1, {'fit_time': array([23.615031  , 24.25624704, 24.09643412]), 'score_time': array([16.08270097, 16.80507588, 17.37897182]), 'test_precision': array([0.72727273, 0.83333333, 0.90909091]), 'test_recall': array([0.44444444, 0.58823529, 0.58823529]), 'test_f1': array([0.55172414, 0.68965517, 0.71428571])}), (2000, 0.1, {'fit_time': array([15.93200898, 17.11275315, 17.63132095]), 'score_time': array([13.86938596, 14.60439205, 15.09012914]), 'test_precision': array([0.72727273, 0.83333333, 0.90909091]), 'test_recall': array([0.44444444, 0.58823529, 0.58823529]), 'test_f1': array([0.55172414, 0.68965517, 0.71428571])}), (3000, 0.1, {'fit_time': array([17.19000721, 18.10490274, 18.4782989 ]), 'score_time': array([15.06877279, 16.04482102, 16.44480705]), 'test_precision': array([0.72727273, 0.83333333, 0.90909091]), 'test_recall': array([0.44444444, 0.58823529, 0.58823529]), 'test_f1': array([0.55172414, 0.68965517, 0.71428571])}), (4000, 0.1, {'fit_time': array([16.33767605, 17.50992513, 17.94551659]), 'score_time': array([15.8379879 , 16.57945514, 17.03745103]), 'test_precision': array([0.72727273, 0.83333333, 0.90909091]), 'test_recall': array([0.44444444, 0.58823529, 0.58823529]), 'test_f1': array([0.55172414, 0.68965517, 0.71428571])}), (5000, 0.1, {'fit_time': array([16.47672915, 17.69828486, 18.14731193]), 'score_time': array([16.36722207, 17.07594895, 17.19411016]), 'test_precision': array([0.72727273, 0.83333333, 0.90909091]), 'test_recall': array([0.44444444, 0.58823529, 0.58823529]), 'test_f1': array([0.55172414, 0.68965517, 0.71428571])}), (6000, 0.1, {'fit_time': array([17.52709413, 18.98427296, 19.16123128]), 'score_time': array([16.16523194, 16.68631911, 17.16090894]), 'test_precision': array([0.72727273, 0.83333333, 0.90909091]), 'test_recall': array([0.44444444, 0.58823529, 0.58823529]), 'test_f1': array([0.55172414, 0.68965517, 0.71428571])}), (7000, 0.1, {'fit_time': array([19.18401122, 20.25291896, 20.56303906]), 'score_time': array([15.90482593, 16.55718017, 16.95706677]), 'test_precision': array([0.72727273, 0.83333333, 0.90909091]), 'test_recall': array([0.44444444, 0.58823529, 0.58823529]), 'test_f1': array([0.55172414, 0.68965517, 0.71428571])}), (8000, 0.1, {'fit_time': array([15.956563  , 16.91646409, 17.41322899]), 'score_time': array([15.85686326, 16.85074377, 17.11571097]), 'test_precision': array([0.72727273, 0.83333333, 0.90909091]), 'test_recall': array([0.44444444, 0.58823529, 0.58823529]), 'test_f1': array([0.55172414, 0.68965517, 0.71428571])})]\n"
     ]
    }
   ],
   "source": [
    "C_2d_range = [1000, 2000, 3000, 4000, 5000, 6000, 7000, 8000]\n",
    "gamma_2d_range = [1e-1, 1, 1e1]\n",
    "classifiers = []\n",
    "for C in C_2d_range:\n",
    "    svc = SVC(C=C, gamma=\"auto\")\n",
    "    stratified_cv_results = cross_validate(svc,X,y_bush, cv=StratifiedKFold(n_splits = 3,shuffle = True,random_state = 4435),\n",
    "                                     scoring=('precision','recall','f1'),return_train_score=False,n_jobs=-1)\n",
    "    print(stratified_cv_results)\n",
    "    classifiers.append((C, gamma, stratified_cv_results))\n",
    "\n",
    "print(classifiers)"
   ]
  },
  {
   "cell_type": "code",
   "execution_count": 73,
   "metadata": {},
   "outputs": [],
   "source": [
    "import statistics "
   ]
  },
  {
   "cell_type": "code",
   "execution_count": 74,
   "metadata": {},
   "outputs": [
    {
     "name": "stdout",
     "output_type": "stream",
     "text": [
      "0.6518883415435139\n",
      "0.6518883415435139\n",
      "0.6518883415435139\n",
      "0.6518883415435139\n",
      "0.6518883415435139\n",
      "0.6518883415435139\n",
      "0.6518883415435139\n",
      "0.6518883415435139\n"
     ]
    }
   ],
   "source": [
    "for k in classifiers:\n",
    "    print(statistics.mean(k[2].get('test_f1')))"
   ]
  },
  {
   "cell_type": "code",
   "execution_count": 75,
   "metadata": {},
   "outputs": [
    {
     "name": "stdout",
     "output_type": "stream",
     "text": [
      "{'fit_time': array([14.22424507, 15.02370405, 15.6177659 ]), 'score_time': array([13.60486603, 14.95711374, 15.12849808]), 'test_precision': array([0.66666667, 0.8       , 0.9       ]), 'test_recall': array([0.44444444, 0.47058824, 0.52941176]), 'test_f1': array([0.53333333, 0.59259259, 0.66666667])}\n",
      "{'fit_time': array([14.92240119, 15.69201779, 16.05281019]), 'score_time': array([12.71221304, 13.99123693, 14.35712886]), 'test_precision': array([0.66666667, 0.8       , 0.9       ]), 'test_recall': array([0.44444444, 0.47058824, 0.52941176]), 'test_f1': array([0.53333333, 0.59259259, 0.66666667])}\n",
      "{'fit_time': array([13.57639909, 14.53053689, 14.91235995]), 'score_time': array([12.61781883, 14.00564408, 14.35561419]), 'test_precision': array([0.66666667, 0.8       , 0.9       ]), 'test_recall': array([0.44444444, 0.47058824, 0.52941176]), 'test_f1': array([0.53333333, 0.59259259, 0.66666667])}\n",
      "{'fit_time': array([13.53782487, 14.36844611, 14.87886119]), 'score_time': array([12.49786615, 13.79011607, 14.08632898]), 'test_precision': array([0.66666667, 0.8       , 0.9       ]), 'test_recall': array([0.44444444, 0.47058824, 0.52941176]), 'test_f1': array([0.53333333, 0.59259259, 0.66666667])}\n",
      "{'fit_time': array([15.0230062 , 15.9059    , 16.10516906]), 'score_time': array([12.3877039, 13.622612 , 14.044806 ]), 'test_precision': array([0.66666667, 0.8       , 0.9       ]), 'test_recall': array([0.44444444, 0.47058824, 0.52941176]), 'test_f1': array([0.53333333, 0.59259259, 0.66666667])}\n",
      "{'fit_time': array([13.52918077, 14.42936921, 14.72571015]), 'score_time': array([12.53219891, 13.95538568, 14.52638793]), 'test_precision': array([0.66666667, 0.8       , 0.9       ]), 'test_recall': array([0.44444444, 0.47058824, 0.52941176]), 'test_f1': array([0.53333333, 0.59259259, 0.66666667])}\n",
      "[(100.0, 0.1, {'fit_time': array([14.22424507, 15.02370405, 15.6177659 ]), 'score_time': array([13.60486603, 14.95711374, 15.12849808]), 'test_precision': array([0.66666667, 0.8       , 0.9       ]), 'test_recall': array([0.44444444, 0.47058824, 0.52941176]), 'test_f1': array([0.53333333, 0.59259259, 0.66666667])}), (1000.0, 0.1, {'fit_time': array([14.92240119, 15.69201779, 16.05281019]), 'score_time': array([12.71221304, 13.99123693, 14.35712886]), 'test_precision': array([0.66666667, 0.8       , 0.9       ]), 'test_recall': array([0.44444444, 0.47058824, 0.52941176]), 'test_f1': array([0.53333333, 0.59259259, 0.66666667])}), (10000.0, 0.1, {'fit_time': array([13.57639909, 14.53053689, 14.91235995]), 'score_time': array([12.61781883, 14.00564408, 14.35561419]), 'test_precision': array([0.66666667, 0.8       , 0.9       ]), 'test_recall': array([0.44444444, 0.47058824, 0.52941176]), 'test_f1': array([0.53333333, 0.59259259, 0.66666667])}), (100000.0, 0.1, {'fit_time': array([13.53782487, 14.36844611, 14.87886119]), 'score_time': array([12.49786615, 13.79011607, 14.08632898]), 'test_precision': array([0.66666667, 0.8       , 0.9       ]), 'test_recall': array([0.44444444, 0.47058824, 0.52941176]), 'test_f1': array([0.53333333, 0.59259259, 0.66666667])}), (1000000.0, 0.1, {'fit_time': array([15.0230062 , 15.9059    , 16.10516906]), 'score_time': array([12.3877039, 13.622612 , 14.044806 ]), 'test_precision': array([0.66666667, 0.8       , 0.9       ]), 'test_recall': array([0.44444444, 0.47058824, 0.52941176]), 'test_f1': array([0.53333333, 0.59259259, 0.66666667])}), (10000000.0, 0.1, {'fit_time': array([13.52918077, 14.42936921, 14.72571015]), 'score_time': array([12.53219891, 13.95538568, 14.52638793]), 'test_precision': array([0.66666667, 0.8       , 0.9       ]), 'test_recall': array([0.44444444, 0.47058824, 0.52941176]), 'test_f1': array([0.53333333, 0.59259259, 0.66666667])})]\n"
     ]
    }
   ],
   "source": [
    "C_2d_range = [1e2, 1e3, 1e4, 1e5, 1e6, 1e7]\n",
    "gamma_2d_range = [1e-1, 1, 1e1]\n",
    "classifiers = []\n",
    "for C in C_2d_range:\n",
    "    svc = SVC(C=C, kernel=\"linear\",gamma=\"auto\")\n",
    "    stratified_cv_results = cross_validate(svc,X,y_bush, cv=StratifiedKFold(n_splits = 3,shuffle = True,random_state = 4435),\n",
    "                                     scoring=('precision','recall','f1'),return_train_score=False,n_jobs=-1)\n",
    "    print(stratified_cv_results)\n",
    "    classifiers.append((C, gamma, stratified_cv_results))\n",
    "\n",
    "print(classifiers)"
   ]
  },
  {
   "cell_type": "code",
   "execution_count": 76,
   "metadata": {},
   "outputs": [
    {
     "name": "stdout",
     "output_type": "stream",
     "text": [
      "0.5975308641975309\n",
      "0.5975308641975309\n",
      "0.5975308641975309\n",
      "0.5975308641975309\n",
      "0.5975308641975309\n",
      "0.5975308641975309\n"
     ]
    }
   ],
   "source": [
    "import statistics \n",
    "for k in classifiers:\n",
    "    print(statistics.mean(k[2].get('test_f1')))"
   ]
  },
  {
   "cell_type": "code",
   "execution_count": null,
   "metadata": {},
   "outputs": [],
   "source": []
  }
 ],
 "metadata": {
  "kernelspec": {
   "display_name": "Python 3",
   "language": "python",
   "name": "python3"
  },
  "language_info": {
   "codemirror_mode": {
    "name": "ipython",
    "version": 3
   },
   "file_extension": ".py",
   "mimetype": "text/x-python",
   "name": "python",
   "nbconvert_exporter": "python",
   "pygments_lexer": "ipython3",
   "version": "3.6.4"
  }
 },
 "nbformat": 4,
 "nbformat_minor": 2
}
