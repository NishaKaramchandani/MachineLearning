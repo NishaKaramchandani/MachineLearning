{
 "cells": [
  {
   "cell_type": "code",
   "execution_count": 1,
   "metadata": {},
   "outputs": [
    {
     "name": "stdout",
     "output_type": "stream",
     "text": [
      "PICKLING ...\n"
     ]
    }
   ],
   "source": [
    "import pickle\n",
    "\n",
    "bush = [0.1570943378, 0.6456001228]\n",
    "williams = [0.2555485893, 0.6518883415]\n",
    "\n",
    "print(\"PICKLING ...\")\n",
    "pickle.dump((bush),open('BUSH.pkl','wb'))\n",
    "pickle.dump((williams),open('WILLIAMS.pkl','wb'))"
   ]
  },
  {
   "cell_type": "code",
   "execution_count": null,
   "metadata": {},
   "outputs": [],
   "source": []
  }
 ],
 "metadata": {
  "kernelspec": {
   "display_name": "Python 3",
   "language": "python",
   "name": "python3"
  },
  "language_info": {
   "codemirror_mode": {
    "name": "ipython",
    "version": 3
   },
   "file_extension": ".py",
   "mimetype": "text/x-python",
   "name": "python",
   "nbconvert_exporter": "python",
   "pygments_lexer": "ipython3",
   "version": "3.6.4"
  }
 },
 "nbformat": 4,
 "nbformat_minor": 2
}
